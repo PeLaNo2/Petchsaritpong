{
  "nbformat": 4,
  "nbformat_minor": 0,
  "metadata": {
    "colab": {
      "provenance": [],
      "authorship_tag": "ABX9TyOCQ7VJpWEDbLUIynED+9wf",
      "include_colab_link": true
    },
    "kernelspec": {
      "name": "python3",
      "display_name": "Python 3"
    },
    "language_info": {
      "name": "python"
    }
  },
  "cells": [
    {
      "cell_type": "markdown",
      "metadata": {
        "id": "view-in-github",
        "colab_type": "text"
      },
      "source": [
        "<a href=\"https://colab.research.google.com/github/PeLaNo2/Petchsaritpong/blob/main/Gemini_classify_csv_cat_no.ipynb\" target=\"_parent\"><img src=\"https://colab.research.google.com/assets/colab-badge.svg\" alt=\"Open In Colab\"/></a>"
      ]
    },
    {
      "cell_type": "code",
      "execution_count": 1,
      "metadata": {
        "id": "Y_pzPycT6Lcz"
      },
      "outputs": [],
      "source": [
        "from google.colab import userdata\n",
        "import os\n",
        "os.environ[\"GEMINI_API_KEY\"]=userdata.get('gemini_api')"
      ]
    },
    {
      "cell_type": "code",
      "source": [
        "import csv\n",
        "import os\n",
        "from google import genai\n",
        "from google.genai import types\n",
        "import time\n",
        "import re\n",
        "from tqdm import tqdm\n",
        "\n",
        "\n",
        "def generate_items(company, PRODUCT_CODE, product_category, existing_items):\n",
        "    \"\"\"\n",
        "    Generates item numbers (4-5 ideally) using Gemini, with Google Search.\n",
        "    Prioritizes existing items.\n",
        "    \"\"\"\n",
        "    client = genai.Client(\n",
        "        api_key=os.environ.get(\"GEMINI_API_KEY\"),\n",
        "    )\n",
        "\n",
        "    model = \"gemini-2.0-flash\"\n",
        "\n",
        "    item_list = \"\"\"\n",
        "    PRODUCT / CATEGORY / ITEM \tCATEGORY NO\tITEM NO\n",
        "Others /　Grocery\t147\t1388\n",
        "Housewares /　Hardware, DIY, House Improvements and Maintenance /　Hardware & DIY Products\t115\t1192\n",
        "Housewares /　Household Products /　Cleaning Equipment\t116\t1649\n",
        "Housewares /　Kitchen & Dining /　Bakeware & Cookware\t117\t1156\n",
        "Housewares /　Kitchen & Dining /　Kitchenware\t117\t1202\n",
        "Housewares /　Kitchen & Dining /　Tableware\t117\t1238\n",
        "Housewares /　Kitchen & Dining /　Kitchen Appliances, Tools & Gadgets\t117\t1652\n",
        "Home Décor /　Garden, Outdoor, Lawn, Patio and Terrace /　Garden & Outdoor Accessories\t114\t1189\n",
        "Home Décor /　Ornaments and Interior Accessories /　Home Décor\t119\t1301\n",
        "Home Décor /　Soft Furnishings and Home Textiles /　Home Textile\t125\t1302\n",
        "Genearl Home Textiles /　Bedroom Textiles /　Bed Linens\t157\t1395\n",
        "Genearl Home Textiles /　Bedroom Textiles /　Bedspreads\t157\t1396\n",
        "Genearl Home Textiles /　Bedroom Textiles /　Decorative Pillows\t157\t1397\n",
        "Genearl Home Textiles /　Bedroom Textiles /　Beddings\t157\t1399\n",
        "Genearl Home Textiles /　Mats\t158, 160\t1404\n",
        "Genearl Home Textiles /　Curtain Tiebacks\t158\t1406\n",
        "Genearl Home Textiles /　Bathroom Accessories (Textiles)\t160\t1413\n",
        "Genearl Home Textiles /　Kitchen & Bathroom Textiles /　Kitchen & Dining Textiles\t160\t1634\n",
        "Genearl Home Textiles /　Fabrics (Home Textiles) /　Mixed Fabrics - Garment\t161\t1427\n",
        "Pet Care Products\t122\t1221\n",
        "Pet Toys\t122\t1276\n",
        "Gifts and Premiums /　Aromatic Products /　Aromatic Products\t102\t1053\n",
        "Gifts and Premiums /　Arts and Crafts & Decorative Items /　Arts & Crafts\t103\t1055\n",
        "Gifts and Premiums /　Arts and Crafts & Decorative Items /　Handmade Decoratives\t103\t2045\n",
        "Gifts and Premiums /　Fashion Accessories and Apparel /　Leather Goods\t110\t1098\n",
        "Gifts and Premiums /　Giftwrap & Packaging /　Packaging Tools, Machinery and Equipment\t120\t1629\n",
        "Gifts and Premiums /　Premiums /　Giveaways\t123\t1085\n",
        "Gifts and Premiums /　Premiums /　Souvenirs\t123\t1132\n",
        "Baby and Nursery Items /　Nursery Items\t105\t1294\n",
        "Baby and Nursery Items /　Babywear & Footwear\t105\t1648\n",
        "Baby and Nursery Items / Baby Toys /　Baby Toys\t130\t1254\n",
        "Baby and Nursery Items + Children Toys  /  Children's Care Products\t105, 131\t1297\n",
        "Toys & Games /    Die Cast/ Mechanical Toys & Action Figures + Hobbies & Collectibles   /  Action Figures\t132, 314\t1253\n",
        "Toys & Games /　Educational Toys & Games /　Puzzles, Board & Card Games\t133\t1280\n",
        "Toys & Games /　General Merchandise / Multiple Products  /　Licensed Products\t135\t1272\n",
        "Toys & Games /　Outdoor & Sporting Items /　Playground Equipments\t136\t1278\n",
        "Toys & Games /　Toy Parts & Accessories /　Toy Parts & Accessories\t138\t1289\n",
        "Toys & Games /　Soft Toys & Dolls /　Dolls\t140\t1264\n",
        "Toys & Games /　Other Toys /　Other Toys\t998\t1305\n",
        "General Stationery /　Calendars\t126, 151\t1063\n",
        "General Stationery /　Folders, Files & Filing Accessories\t126, 148\t1080\n",
        "General Stationery /　Greeting Cards\t126, 151\t1089\n",
        "General Stationery /   Name card Storage\t126, 149\t1109\n",
        "General Stationery /　Paper Products\t126\t1114\n",
        "General Stationery /　 Writing Instruments\t126, 148\t1149\n",
        "General Stationery /　Office Supplies /　Office Accessories\t149\t1325\n",
        "Jewellery /　Fine Jewellery /　Diamond Jewellery\t162\t1384\n",
        "Jewellery /　Fine Jewellery /　Gemset Jewelry\t162\t1820\n",
        "Jewellery /　Fine Jewellery /　Gold Jewelry\t162\t1821\n",
        "Jewellery /　Fine Jewellery /　Jade Jewelry\t162\t1822\n",
        "Jewellery /　Fine Jewellery /　Pearl Jewelry\t162\t1823\n",
        "Jewellery /　Fine Jewellery /　Platinum Jewelry\t162\t1824\n",
        "Jewellery /　Fine Jewellery /　Silver Jewellery\t162\t1825\n",
        "Jewellery /　Fine Jewellery /　Stainless Steel Jewelry\t162\t1826\n",
        "Jewellery /　Fine Jewellery /　Antique Jewelry\t162\t1835\n",
        "Jewellery /　Fine Jewellery /　Finished Jewellery\t162\t1839\n",
        "Jewellery /　Fine Jewellery /　Jewellery Accessories\t162\t1841\n",
        "Jewellery /　Gold & Silver /　Pure Gold Jewellery\t166\t1354\n",
        "Jewellery /　Gold & Silver /　Silver Jewellery\t166\t1382\n",
        "Jewellery /　Jewellery Display & Packaging /　Display\t232\t1834\n",
        "Jewellery /　Jewellery Display & Packaging /　Jewellery Tools & Instrument\t232\t1843\n",
        "General Garment /　Eyewear\t145\t1873\n",
        "General Garment /　Children's Apparel, Bags and Footwear\t155\t1308\n",
        "General Garment /　Garment /　Menswear\t155\t1356\n",
        "General Garment /　Womenswear\t155\t1357\n",
        "General Garment /　Babies and Children's Wear\t155\t1358\n",
        "General Garment /　Casual wear\t155\t1359\n",
        "General Garment /　Knit Wear\t155\t1799\n",
        "General Garment /　Wedding Dress\t155\t2182\n",
        "General Garment /　Garment /　Jacket\t155\t2194\n",
        "General Garment /　Garment /　Sweater\t155\t2195\n",
        "General Garment /　Garment /　T-shirt\t155\t2196\n",
        "General Garment /　Garment /  SHIRTS\t155\t2236\n",
        "General Garment /　Garment /  CUSTOM CLOTHING\t155\t2237\n",
        "General Garment /　Garment /  STREETWEAR\t155\t2238\n",
        "General Garment /　Garment + Sportswear and Sports Shoes  /  SPORT BRA & LEGGINGS\t155, 306\t2239\n",
        "General Garment /　Garment + Sportswear and Sports Shoes /  YOGA WEAR\t155, 306\t2240\n",
        "General Garment /　Garment /  TROUSERS\t155\t2241\n",
        "General Garment /　Garment /  SHORTS\t155\t2242\n",
        "General Garment /　Garment /  HOODIES\t155\t2243\n",
        "General Building Materials /　Building Materials /　Metal building materials\t176\t1477\n",
        "General Building Materials /　Building Materials /　Chemical Industry Building Materials\t176\t1478\n",
        "General Building Materials /　Building Materials /　Glass building materials\t176\t1479\n",
        "General Building Materials /　Building Materials /　Cement products\t176\t1480\n",
        "General Building Materials /　Building Materials /　Fireproof material\t176\t1481\n",
        "General Food /　Food /　MEAT\t185\t1544\n",
        "General Food /　Food /　egg+ dairy\t185\t1545\n",
        "General Food /　Food /　SEAFOOD\t185\t1546\n",
        "General Food /　Food /　FRUITS\t185\t1547\n",
        "General Food /　Food /　VEGAN\t185\t1548\n",
        "General Food /　Food /　Condiment\t185\t1549\n",
        "General Food /　Food /　Food Additives\t185\t1552\n",
        "General Food /　Food /　Bee Products\t185\t1553\n",
        "General Food /　Drinks /　Beer\t186\t1554\n",
        "General Food /　Drinks /　Spirits\t186\t1555\n",
        "General Food /　Drinks /　Wines\t186\t1556\n",
        "General Food /　Drinks /　Coffee\t186\t1557\n",
        "General Food /　Drinks /　Fruit Juice\t186\t1558\n",
        "General Food /　Drinks /　Drinking Water\t186\t1559\n",
        "General Food /　Drinks /　Alcoholic\t186\t1952\n",
        "General Food /　Drinks /　Non-alcoholic Beverages\t186\t1955\n",
        "General Food /　Tea /　Food Packaging \t207\t1662\n",
        "General Food /　Oils\t290\t1543\n",
        "General Food /　Grain Products\t290\t1953\n",
        "General Food /　Dairy Products\t290\t1956\n",
        "General Food /　Chilled & Frozen Food /　Chilled Seafood\t291\t1954\n",
        "General Food /       Canned Food\t292\t1814\n",
        "General Food /    Snacks \t293, 295\t1551\n",
        "General Food /　Sweets & Confectionery /　Candies and Confectionery Products\t295\t1550\n",
        "General Food /　Honey\t296\t2184\n",
        "General Machinery /　Machine Accessories \t268\n",
        "General Machinery /　Factory Machines\t271\n",
        "General Machinery /　Factory Machines /　Industrial Automation & Intelligent Manufacturing\t271\t2232\n",
        "General Machinery /　Factory Machines /　Processing Machinery Equipment\t271\t2233\n",
        "General Machinery /　Construction Used Machines \t275\n",
        "General Machinery /　Food Machinery\t339\n",
        "Lighting /　Office Workplace Lighting\t208\t1665\n",
        "Lighting /　Commercial Lighting /  Hotel, Restaurant & Shop Lighting\t208\t1690\n",
        "Lighting /　Home Lighting  /　Table / Desk Lamps\t209\t1668\n",
        "Lighting /　Home Lighting /   Floor Lamps\t209\t1669\n",
        "Lighting /　Home Lighting /  Night Lamps\t209\t1670\n",
        "Lighting /　Lighting /  Ceiling Lamps & Lighting\t209\t1691\n",
        "Lighting /　Decorative Lighting /  Chandeliers\t210\t1673\n",
        "Lighting /　Decorative Lighting /  Decorative Table Lamps\t210\t1674\n",
        "Lighting /　Lighting /  Fibre Optic Lights\t210\t1782\n",
        "Lighting /　Professional & Outdoor Lighting /  Stage Lighting\t211\t1675\n",
        "Lighting /　Professional & Outdoor Lighting /  Special Venue Lighting\t211\t1676\n",
        "Lighting /　Professional & Outdoor Lighting /  Outdoor Lighting Equipment\t211\t1677\n",
        "Lighting /　Professional & Outdoor Lighting /  Garden & Landscape Lighting\t211\t1678\n",
        "Lighting /　LED & Energy-saving Lighting /  LED Light Bulbs\t212\t1679\n",
        "Lighting /　LED & Energy-saving Lighting /  LED Lighting\t212\t1680\n",
        "Lighting /　LED & Energy-saving Lighting /  Energy-saving Light Bulbs\t212\t1681\n",
        "Lighting /　LED & Energy-saving Lighting /  Energy-saving Lighting System\t212\t1682\n",
        "Lighting /　Solar CELL\t212\t1729\n",
        "Lighting /  LIGHTING SOLUTION\t344\n",
        " Lighting /    Commercial Lighting + Home Lighting  /  Lighting For Emergency & Safety\t208, 209\t1786\n",
        "Lighting /  Commercial Lighting + Professional & Outdoor Lighting  /  Spotlight\t208, 211\t1788\n",
        "Lighting /   Home Lighting + Professional & Outdoor Lighting  /  Wall Lamps\t209, 211\t1667\n",
        "Consumer Electronics /　Audio-visual Products /  LCD Display\t214\t1693\n",
        "Consumer Electronics /　Audio-visual Products /  Electronic Games & Entertainment\t214\t1699\n",
        "Consumer Electronics /　Audio-visual Products /  Digital Audio Systems\t214\t1731\n",
        "Consumer Electronics /　Personal Electronics /  Electronic Smart Devices & Accessories\t216\t1701\n",
        "Servicing Industries /　Exhibition Agent /  Exhibition & Event Planning\t220\t1838\n",
        "Servicing Industries /　Exhibition Organizer\t221\n",
        "Servicing Industries /　Consultants Company  /  Development Company\t312\t2042\n",
        "Design Studio / Designer Services\t242\n",
        "Footwear /　Fashion Footwear /  Mens Shoes\t248\t1863\n",
        "Footwear /　Fashion Footwear /  Ｗomens Ｓhoes\t248\t1864\n",
        "Footwear /　Fashion Footwear /  Childrens Shoes\t248\t1865\n",
        "Footwear /　Casual Footwear /  Slipper and Flip-flops\t250\t1769\n",
        "Footwear /　Casual Footwear /  Sandals\t250\t1871\n",
        "Footwear /　Professional Footwear /  Work and Safety Footwear\t251\t1868\n",
        "IT /　IT Solutions  /  Website design\t269\t1926\n",
        " IT /     IT Solutions  /  Interactive / digital kiosks\t269\t1930\n",
        "IT /　IT Solutions  /  Logo design\t269\t1931\n",
        "IT /　IT Solutions  /  Educational learning APP\t269\t2049\n",
        "IT /　IT Solutions  /  Learning online\t269\t2050\n",
        "IT /　Software /  system /  Mobile application\t270\t1927\n",
        "IT /　Software /  system /  360 photography / video\t270\t1928\n",
        "IT /　Software / system /  VR (virtual reality)\t270\t1929\n",
        "Festive, Christmas and Seasonal /  Balloons\t\t1058\n",
        "Festive, Christmas and Seasonal / Christmas Decorations\t\t1069\n",
        "Travel and Luggage /　Travel Accessories /  Backpacks\t315\t1056\n",
        "Cosmetics & Personal Care /　Cosmetic /  Skincare\t297\t1965\n",
        "Cosmetics & Personal Care /　Personal Care /  Health Care Products\t298\t1964\n",
        "Cosmetics & Personal Care /　Personal Care /  Body Care Products\t298\t1967\n",
        "Halal  / Halal Beauty \t349\n",
        "Halal  / Halal Fashion \t350\n",
        "Halal  / Halal Wellness & Health \t351\n",
        "Halal  / Halal Tourism \t352\n",
        "Halal  / Halal  Food  / Halal Food \t353\t1957\n",
        "HANDICRAFT\n",
        "Home Appliances  +   Kitchen Appliances /  Blenders\t109, 201\t1165\n",
        "Home Appliances  +   Kitchen Appliances /  Coffee Makers\t109, 201\t1175\n",
        "Home Appliances  +   Kitchen Appliances /  Rice Cookers\t109, 201\t1178\n",
        "Home Appliances   +  Kitchen Appliances  /  Microwave Ovens \t109, 201\t1214\n",
        "Home Appliances    +    Kitchen Appliances / Refrigerators\t109, 201\t1226\n",
        "Home Appliances    +    Kitchen Appliances /  Stoves & Ovens\t109, 201\t1235\n",
        "\"\"\"\n",
        "\n",
        "    Text_prompt = f\"\"\"\n",
        "Company: {company}\n",
        "PRODUCT CODE: {PRODUCT_CODE}\n",
        "product_category: {product_category}\n",
        "\n",
        "Based on the provided information and the list below, classify this company's products\n",
        "according to the following CATEGORY NO. Output *only* the CATEGORY NO, separated by commas.\n",
        "Choose only 2 item number max that most relevant. Output ONLY number. Use Google Search to get\n",
        "more context about the company and its products if needed.\n",
        "\n",
        "{item_list}\n",
        "\n",
        "Reason step by step, then provide the best matching CATEGORY NO within a <final_answer> tag.\n",
        "For example: <final_answer>185</final_answer> or <final_answer>155</final_answer>.\n",
        "\"\"\"\n",
        "\n",
        "    contents = [\n",
        "        types.Content(\n",
        "            role=\"user\",\n",
        "            parts=[\n",
        "                types.Part.from_text(text=Text_prompt),\n",
        "            ],\n",
        "        ),\n",
        "    ]\n",
        "\n",
        "    tools = [\n",
        "        types.Tool(function_declarations=[types.FunctionDeclaration(\n",
        "            name=\"google_search\",\n",
        "            description=\"Perform a Google Search for a given query.\",\n",
        "            parameters=types.Schema(\n",
        "                type=types.Type.OBJECT,\n",
        "                properties={\n",
        "                    \"query\": types.Schema(type=types.Type.STRING, description=\"The search query.\")\n",
        "                },\n",
        "                required=[\"query\"],\n",
        "            )\n",
        "        )])\n",
        "    ]\n",
        "\n",
        "    generate_content_config = types.GenerateContentConfig(\n",
        "        temperature=0.2,\n",
        "        top_p=0.95,\n",
        "        top_k=40,\n",
        "        max_output_tokens=8192,\n",
        "        tools=tools,\n",
        "        response_mime_type=\"text/plain\",\n",
        "    )\n",
        "\n",
        "    try:\n",
        "        response = client.models.generate_content(\n",
        "            model=model,\n",
        "            contents=contents,\n",
        "            config=generate_content_config,\n",
        "        )\n",
        "\n",
        "        match = re.search(r\"<final_answer>(.*?)</final_answer>\", response.text)\n",
        "        if match:\n",
        "            final_answer = match.group(1).strip()\n",
        "            new_item_numbers = []\n",
        "            for num_str in final_answer.split(','):\n",
        "                num_str = num_str.strip()\n",
        "                if num_str.isdigit():\n",
        "                    new_item_numbers.append(num_str)\n",
        "\n",
        "            return new_item_numbers\n",
        "\n",
        "        else:\n",
        "            print(f\"Warning: <final_answer> tag not found.\")\n",
        "            return []\n",
        "\n",
        "    except Exception as e:\n",
        "        print(f\"Error during Gemini inference: {e}\")\n",
        "        return []\n",
        "\n",
        "\n",
        "# Correct Indentation:\n",
        "def process_csv(input_file, output_file, start_row=1, end_row=None):\n",
        "    \"\"\"Processes the CSV, prioritizing existing items, adding new (up to 5).\"\"\"\n",
        "    try: # Good practice to wrap file operations in try/except\n",
        "        with open(input_file, 'r', encoding='cp1252') as infile, \\\n",
        "                open(output_file, 'w', newline='', encoding='utf-8') as outfile:\n",
        "\n",
        "            # ---> START: All these lines MUST be indented under 'with' <---\n",
        "            reader = csv.DictReader(infile)\n",
        "\n",
        "            # Prepare fieldnames for the writer\n",
        "            fieldnames = reader.fieldnames\n",
        "            if fieldnames is None:\n",
        "                 print(f\"ERROR: Could not read headers from {input_file}. Is it empty or not a valid CSV?\")\n",
        "                 return # Exit if no headers\n",
        "\n",
        "            # Check if 'ITEM' column exists, if not, add it to the list for the writer\n",
        "            if 'CATEGORIES NO' not in fieldnames:\n",
        "                fieldnames = fieldnames + ['CATEGORIES NO'] # Create a new list including 'CATEGORIES NO'\n",
        "\n",
        "            writer = csv.DictWriter(outfile, fieldnames=fieldnames)\n",
        "            writer.writeheader() # Write the potentially modified headers\n",
        "\n",
        "            # Wrap the reader with tqdm *here*, and use enumerate on tqdm(reader)\n",
        "            # Note: total=end_row might be inaccurate if end_row is beyond file length\n",
        "            # Consider removing 'total' or doing a first pass to count lines for accuracy\n",
        "            print(f\"Processing rows from {start_row}...\") # Add some logging\n",
        "            for row_count, row in tqdm(enumerate(reader, start=1), desc=\"Processing CSV\"):\n",
        "                if row_count < start_row:\n",
        "                    # Need to write skipped rows too, ensuring all columns are present\n",
        "                    output_row = {field: row.get(field, '') for field in fieldnames}\n",
        "                    if 'CATEGORIES NO' not in row: output_row['CATEGORIES NO'] = '' # Ensure ITEM exists for writer\n",
        "                    writer.writerow(output_row)\n",
        "                    continue\n",
        "                if end_row is not None and row_count > end_row:\n",
        "                    break # Stop processing after end_row\n",
        "\n",
        "                # --- Your row processing logic would go here ---\n",
        "                # Example placeholder:\n",
        "                company = row.get('COMPANY ', '').strip()\n",
        "                PRODUCT_CODE = row.get('PRODUCT CODE', '').strip()\n",
        "                product_category = row.get('PRODUCT CATEGORY', '').strip()\n",
        "                existing_items_str = row.get('CATEGORIES NO', '').strip() # Get existing CATEGORIES NO if column was present\n",
        "                existing_items = [item.strip() for item in existing_items_str.split(',') if item.strip().isdigit()]\n",
        "\n",
        "                if not product_category:\n",
        "                  product_category = \"Not specified\"\n",
        "\n",
        "                print(company)\n",
        "                print(PRODUCT_CODE)\n",
        "\n",
        "                if not company or not PRODUCT_CODE:\n",
        "                     print(f\"\\nSkipping row {row_count} due to missing data.\")\n",
        "                     output_row = {field: row.get(field, '') for field in fieldnames}\n",
        "                     if 'CATEGORIES NO' not in row: output_row['CATEGORIES NO'] = existing_items_str # Write original ITEM if present\n",
        "                     elif not output_row.get('CATEGORIES NO'): output_row['CATEGORIES NO'] = '' # Ensure ITEM exists\n",
        "                     writer.writerow(output_row)\n",
        "                     continue\n",
        "\n",
        "                time.sleep(4.1) # Consider moving delay right before API call if possible\n",
        "\n",
        "                new_items = generate_items(company, PRODUCT_CODE, product_category, existing_items) # Call your Gemini function\n",
        "                combined_items = existing_items.copy()\n",
        "                for item in new_items:\n",
        "                    if item.isdigit() and item not in combined_items and len(combined_items) < 5:\n",
        "                        combined_items.append(item)\n",
        "\n",
        "                final_items = [item for item in combined_items[:5] if item.isdigit()]\n",
        "\n",
        "                # Prepare the row for writing, ensuring all fields exist\n",
        "                output_row = {field: row.get(field, '') for field in fieldnames}\n",
        "                output_row['CATEGORIES NO'] = \", \".join(final_items) # Add the processed items\n",
        "\n",
        "                writer.writerow(output_row)\n",
        "                # ---> END: Indentation under 'with' ends here <---\n",
        "\n",
        "    except FileNotFoundError:\n",
        "        print(f\"ERROR: Input file not found: {input_file}\")\n",
        "    except Exception as e:\n",
        "        print(f\"An error occurred during CSV processing: {e}\")\n",
        "\n",
        "if __name__ == \"__main__\":\n",
        "    input_csv_file = \"/content/Book(update by moke).csv\"  # Your input CSV file\n",
        "    output_csv_file = \"output.csv\"\n",
        "    start_row = 1\n",
        "    end_row = None  # Or None to process to the end\n",
        "    process_csv(input_file=input_csv_file, output_file=output_csv_file, start_row=start_row, end_row=end_row)\n",
        "    print(\"Processing complete. Results saved to:\", output_csv_file)\n"
      ],
      "metadata": {
        "colab": {
          "base_uri": "https://localhost:8080/"
        },
        "id": "7_c_WbVu6O7B",
        "outputId": "96c39a70-b0b7-4ba2-e9c6-e5b2b3b8a511"
      },
      "execution_count": null,
      "outputs": [
        {
          "output_type": "stream",
          "name": "stdout",
          "text": [
            "Processing rows from 1...\n"
          ]
        },
        {
          "output_type": "stream",
          "name": "stderr",
          "text": [
            "\rProcessing CSV: 0it [00:00, ?it/s]"
          ]
        },
        {
          "output_type": "stream",
          "name": "stdout",
          "text": [
            "Interni Asia\n",
            "furnishing fabrics, wallcoverings and accessories\n"
          ]
        },
        {
          "output_type": "stream",
          "name": "stderr",
          "text": [
            "\rProcessing CSV: 1it [00:05,  5.27s/it]"
          ]
        },
        {
          "output_type": "stream",
          "name": "stdout",
          "text": [
            "PT. AICA INDONESIA\n",
            "Laminates,adhesive\n"
          ]
        },
        {
          "output_type": "stream",
          "name": "stderr",
          "text": [
            "\rProcessing CSV: 2it [00:10,  5.32s/it]"
          ]
        },
        {
          "output_type": "stream",
          "name": "stdout",
          "text": [
            "Bali Art Furniture\n",
            "outdoor and indoor furniture, décor elements, and even jewelry. Exquisite materials and meticulous craftsmanship\n"
          ]
        },
        {
          "output_type": "stream",
          "name": "stderr",
          "text": [
            "\rProcessing CSV: 3it [00:16,  5.41s/it]"
          ]
        },
        {
          "output_type": "stream",
          "name": "stdout",
          "text": [
            "Lana Daya Home\n",
            "textiles,fabric,Pillow\n"
          ]
        },
        {
          "output_type": "stream",
          "name": "stderr",
          "text": [
            "\rProcessing CSV: 4it [00:21,  5.39s/it]"
          ]
        },
        {
          "output_type": "stream",
          "name": "stdout",
          "text": [
            "Une Escale a Bali\n",
            "Furniture,home decoration,Laminates,Lamp\n"
          ]
        },
        {
          "output_type": "stream",
          "name": "stderr",
          "text": [
            "\rProcessing CSV: 5it [00:26,  5.41s/it]"
          ]
        },
        {
          "output_type": "stream",
          "name": "stdout",
          "text": [
            "PT. Country Form Furniture\n",
            "furniture, flooring products, sculpture, home wares and mosaics\n"
          ]
        },
        {
          "output_type": "stream",
          "name": "stderr",
          "text": [
            "\rProcessing CSV: 6it [00:32,  5.35s/it]"
          ]
        },
        {
          "output_type": "stream",
          "name": "stdout",
          "text": [
            "PT. Jellyspace eBisnis Internasional\n",
            "\n",
            "\n",
            "Skipping row 7 due to missing data.\n",
            "CV. Mulya Siwi Abadi\n",
            "small furniture,lampshades,vases, baskets, and other unique pieces\n"
          ]
        },
        {
          "output_type": "stream",
          "name": "stderr",
          "text": [
            "\rProcessing CSV: 8it [00:37,  4.03s/it]"
          ]
        },
        {
          "output_type": "stream",
          "name": "stdout",
          "text": [
            "Picasso Home Indonesia\n",
            "furniture, lighting, textiles, bathware\n"
          ]
        },
        {
          "output_type": "stream",
          "name": "stderr",
          "text": [
            "\rProcessing CSV: 9it [00:43,  4.44s/it]"
          ]
        },
        {
          "output_type": "stream",
          "name": "stdout",
          "text": [
            "APcraft.id\n",
            "Gift card,Hampers\n"
          ]
        },
        {
          "output_type": "stream",
          "name": "stderr",
          "text": [
            "\rProcessing CSV: 10it [00:48,  4.75s/it]"
          ]
        },
        {
          "output_type": "stream",
          "name": "stdout",
          "text": [
            "Jenggala on Sunset\n",
            "Ceramic tableware,Drinkware, Glassware, Dining, Tabletop ,Accessories,Vases\n"
          ]
        },
        {
          "output_type": "stream",
          "name": "stderr",
          "text": [
            "\rProcessing CSV: 11it [00:54,  4.92s/it]"
          ]
        },
        {
          "output_type": "stream",
          "name": "stdout",
          "text": [
            "PT. LanCar Sari\n",
            "Candle Holder, Terracotta, Wall Decoration, Mirror, Table Top, Custom Art\n"
          ]
        },
        {
          "output_type": "stream",
          "name": "stderr",
          "text": [
            "\rProcessing CSV: 12it [00:59,  5.16s/it]"
          ]
        },
        {
          "output_type": "stream",
          "name": "stdout",
          "text": [
            "URBANLOFT (Member of Artadia Group)\n",
            "furniture,lighting\n"
          ]
        },
        {
          "output_type": "stream",
          "name": "stderr",
          "text": [
            "\rProcessing CSV: 13it [01:05,  5.25s/it]"
          ]
        },
        {
          "output_type": "stream",
          "name": "stdout",
          "text": [
            "PT. ASIAN PAINTS INDONESIA\n",
            "Interior Paint ,Exterior Paint, Wood and Metal Paint, Waterproofing Solutions\n"
          ]
        },
        {
          "output_type": "stream",
          "name": "stderr",
          "text": [
            "\rProcessing CSV: 14it [01:10,  5.30s/it]"
          ]
        },
        {
          "output_type": "stream",
          "name": "stdout",
          "text": [
            "CG Artspace\n",
            "Art Gallery\n"
          ]
        },
        {
          "output_type": "stream",
          "name": "stderr",
          "text": [
            "\rProcessing CSV: 15it [01:15,  5.26s/it]"
          ]
        },
        {
          "output_type": "stream",
          "name": "stdout",
          "text": [
            "Yuli-Yudhistira Stone Carving\n",
            "Bathroom Accessories, Casting Statue, GRC Statue, Green Stone, Statue Lamp, Lava Stone Lantern & Statue Limestone Lamp River Stone\n"
          ]
        },
        {
          "output_type": "stream",
          "name": "stderr",
          "text": [
            "\rProcessing CSV: 16it [01:21,  5.34s/it]"
          ]
        },
        {
          "output_type": "stream",
          "name": "stdout",
          "text": [
            "PT. Terang Abadi Sriwijaya\n",
            "lighting\n"
          ]
        },
        {
          "output_type": "stream",
          "name": "stderr",
          "text": [
            "\rProcessing CSV: 17it [01:27,  5.63s/it]"
          ]
        },
        {
          "output_type": "stream",
          "name": "stdout",
          "text": [
            "PT. Fuzen Decor Bali\n",
            "furniture,Wood Furniture,Leather Sofa,Teak Sideboard\n"
          ]
        },
        {
          "output_type": "stream",
          "name": "stderr",
          "text": [
            "\rProcessing CSV: 18it [01:33,  5.53s/it]"
          ]
        },
        {
          "output_type": "stream",
          "name": "stdout",
          "text": [
            "ARDENA FURNITURE\n",
            "Furniture Jepara, Custom Design Project Home Cafe Hotel Apartement Villa,Outdoor & Indoor\n"
          ]
        },
        {
          "output_type": "stream",
          "name": "stderr",
          "text": [
            "\rProcessing CSV: 19it [01:38,  5.54s/it]"
          ]
        },
        {
          "output_type": "stream",
          "name": "stdout",
          "text": [
            "Arbor & Troy\n",
            "Sofa Coffee Table & Side Table Console Table & Credenza Accent Chair\n"
          ]
        },
        {
          "output_type": "stream",
          "name": "stderr",
          "text": [
            "\rProcessing CSV: 20it [01:43,  5.49s/it]"
          ]
        },
        {
          "output_type": "stream",
          "name": "stdout",
          "text": [
            "Canggu & Co Homestore\n",
            "Tropical Interior Design Service & Exotic Homestore, Lux Soft Furnishings & Boho Homewares\n"
          ]
        },
        {
          "output_type": "stream",
          "name": "stderr",
          "text": [
            "\rProcessing CSV: 21it [01:49,  5.51s/it]"
          ]
        },
        {
          "output_type": "stream",
          "name": "stdout",
          "text": [
            "KANA Furniture\n",
            "furniture & wood processing\n"
          ]
        },
        {
          "output_type": "stream",
          "name": "stderr",
          "text": [
            "\rProcessing CSV: 22it [01:54,  5.45s/it]"
          ]
        },
        {
          "output_type": "stream",
          "name": "stdout",
          "text": [
            "PT. Yale Setya Sentosa\n",
            "furniture\n"
          ]
        },
        {
          "output_type": "stream",
          "name": "stderr",
          "text": [
            "\rProcessing CSV: 23it [02:00,  5.37s/it]"
          ]
        },
        {
          "output_type": "stream",
          "name": "stdout",
          "text": [
            "Shalimar Gallery\n",
            "Soft Furnishing, Horn Products, Beaded Basket, Wooden Batik\n"
          ]
        },
        {
          "output_type": "stream",
          "name": "stderr",
          "text": [
            "\rProcessing CSV: 24it [02:05,  5.41s/it]"
          ]
        },
        {
          "output_type": "stream",
          "name": "stdout",
          "text": [
            "CV. SELOAGRO (RATTAN BASKET MANUFACTURER)\n",
            "Rattan Wicker Basket\n"
          ]
        },
        {
          "output_type": "stream",
          "name": "stderr",
          "text": [
            "\rProcessing CSV: 25it [02:10,  5.36s/it]"
          ]
        },
        {
          "output_type": "stream",
          "name": "stdout",
          "text": [
            "Gangga Sukta Handicraft\n",
            "Home Decor & Living Exporter\n"
          ]
        },
        {
          "output_type": "stream",
          "name": "stderr",
          "text": [
            "\rProcessing CSV: 26it [02:15,  5.32s/it]"
          ]
        },
        {
          "output_type": "stream",
          "name": "stdout",
          "text": [
            "WISANKA OUTDOOR FURNITURE\n",
            "wooden furniture, indoor teak, rattan and natural fibers, classic furniture, outdoor furniture, synthetic rattan, decorative lighting and craft\n"
          ]
        },
        {
          "output_type": "stream",
          "name": "stderr",
          "text": [
            "\rProcessing CSV: 27it [02:21,  5.38s/it]"
          ]
        },
        {
          "output_type": "stream",
          "name": "stdout",
          "text": [
            "Garden Textile\n",
            "Elegant Fabrics,Cheongsam,Chiffon, Cotton, Crepe, Jacquard, Lace (Brokat)\n"
          ]
        },
        {
          "output_type": "stream",
          "name": "stderr",
          "text": [
            "\rProcessing CSV: 28it [02:27,  5.42s/it]"
          ]
        },
        {
          "output_type": "stream",
          "name": "stdout",
          "text": [
            "Carolina's Garden\n",
            "Various Ornamental Plants, Orchids, and Superior Fruits. Also serving garden creation and garden maintenance\n"
          ]
        },
        {
          "output_type": "stream",
          "name": "stderr",
          "text": [
            "\rProcessing CSV: 29it [02:32,  5.47s/it]"
          ]
        },
        {
          "output_type": "stream",
          "name": "stdout",
          "text": [
            "CV. ARTINDO JAYA FURNITURE\n",
            "Bed , Cabinet , Chairs , Coffee Table , Dining Table , Mirror , Set , Side Table\n"
          ]
        },
        {
          "output_type": "stream",
          "name": "stderr",
          "text": [
            "\rProcessing CSV: 30it [02:38,  5.56s/it]"
          ]
        },
        {
          "output_type": "stream",
          "name": "stdout",
          "text": [
            "OKE Garden\n",
            "Gardener\n"
          ]
        },
        {
          "output_type": "stream",
          "name": "stderr",
          "text": [
            "\rProcessing CSV: 31it [02:43,  5.51s/it]"
          ]
        },
        {
          "output_type": "stream",
          "name": "stdout",
          "text": [
            "CV. More Than Teak International (Teak Garden Indonesia)\n",
            "Wood Furniture,Benches, Chairs, Deep Seatings, Lounge, Garden Accesorries & Cushion,Tables\n"
          ]
        },
        {
          "output_type": "stream",
          "name": "stderr",
          "text": [
            "\rProcessing CSV: 32it [02:49,  5.49s/it]"
          ]
        },
        {
          "output_type": "stream",
          "name": "stdout",
          "text": [
            "CV. Qirana Furniture\n",
            "Folding Bench,Garden Bench\n"
          ]
        },
        {
          "output_type": "stream",
          "name": "stderr",
          "text": [
            "\rProcessing CSV: 33it [02:54,  5.35s/it]"
          ]
        },
        {
          "output_type": "stream",
          "name": "stdout",
          "text": [
            "CV. MANDIRI ABADI\n",
            "Teak Garden Furniture, Aluminium powder coated furniture, Synthetic rattan furniture, Stainless steel furniture\n"
          ]
        },
        {
          "output_type": "stream",
          "name": "stderr",
          "text": [
            "\rProcessing CSV: 34it [02:59,  5.43s/it]"
          ]
        },
        {
          "output_type": "stream",
          "name": "stdout",
          "text": [
            "Rattan Lounger\n",
            "Outdoor Furniture,Sabmud Dining Table Set, Sabmud Lounger, Sabmud Living Set, Sabmud Dining Chair, Sabmud Terrace Set, EXQUISITE Collections, MATERIAL COLORS, FABRIC SAMPLE COLORS\n"
          ]
        },
        {
          "output_type": "stream",
          "name": "stderr",
          "text": [
            "\rProcessing CSV: 35it [03:05,  5.44s/it]"
          ]
        },
        {
          "output_type": "stream",
          "name": "stdout",
          "text": [
            "CV. INDOTEAK SUKSES MAKMUR - Marketing Office\n",
            "garden furniture, outdoor furniture, teak patio furniture sets and kiln dried solid teak furniture\n"
          ]
        },
        {
          "output_type": "stream",
          "name": "stderr",
          "text": [
            "\rProcessing CSV: 36it [03:10,  5.43s/it]"
          ]
        },
        {
          "output_type": "stream",
          "name": "stdout",
          "text": [
            "Puriegarden\n",
            "Hydroponics, Plant Seeds, Gardening Supplies, Planting Media, Fertilizer Pesticides, Plant Pots, Irrigation, Souvenirs\n"
          ]
        },
        {
          "output_type": "stream",
          "name": "stderr",
          "text": [
            "\rProcessing CSV: 37it [03:16,  5.41s/it]"
          ]
        },
        {
          "output_type": "stream",
          "name": "stdout",
          "text": [
            "CV. INDOTEAK SUKSES MAKMUR\n",
            "garden furniture, outdoor furniture, teak patio furniture sets and kiln dried solid teak furniture\n"
          ]
        },
        {
          "output_type": "stream",
          "name": "stderr",
          "text": [
            "\rProcessing CSV: 38it [03:21,  5.48s/it]"
          ]
        },
        {
          "output_type": "stream",
          "name": "stdout",
          "text": [
            "CV. Aulia Jati IndoFurni\n",
            "Solid Teak wood,Chairs,Tables,Accessories\n"
          ]
        },
        {
          "output_type": "stream",
          "name": "stderr",
          "text": [
            "\rProcessing CSV: 39it [03:27,  5.45s/it]"
          ]
        },
        {
          "output_type": "stream",
          "name": "stdout",
          "text": [
            "Republic Furniture Group\n",
            "Indoor Furniture,Tables,Sofas,Chairs,Lounges\n"
          ]
        },
        {
          "output_type": "stream",
          "name": "stderr",
          "text": [
            "\rProcessing CSV: 40it [03:32,  5.43s/it]"
          ]
        },
        {
          "output_type": "stream",
          "name": "stdout",
          "text": [
            "PT. Antex Jaya Exim\n",
            "furniture products including wicker, teak, rattan and batty line, and handicraft\n"
          ]
        },
        {
          "output_type": "stream",
          "name": "stderr",
          "text": [
            "\rProcessing CSV: 41it [03:37,  5.40s/it]"
          ]
        },
        {
          "output_type": "stream",
          "name": "stdout",
          "text": [
            "Le Javas Furniture\n",
            "outdoor furniture, teak patio furniture, outdoor garden furniture and teak garden furniture\n"
          ]
        },
        {
          "output_type": "stream",
          "name": "stderr",
          "text": [
            "\rProcessing CSV: 42it [03:43,  5.36s/it]"
          ]
        },
        {
          "output_type": "stream",
          "name": "stdout",
          "text": [
            "Green Homes Indonesia (Workshop)\n",
            "Vertical Garden, Roof Garden, and Horizontal Landscape that we design, all based on organic systems\n"
          ]
        },
        {
          "output_type": "stream",
          "name": "stderr",
          "text": [
            "\rProcessing CSV: 43it [03:48,  5.41s/it]"
          ]
        },
        {
          "output_type": "stream",
          "name": "stdout",
          "text": [
            "PT. PRESIDENT FURNITURE\n",
            "Outdoor Furniture:  Tables, chairs, Benches, bar set, steamers, Lounger and many more,indoor Furniture:  colonial, antique, simple design indoor furniture\n"
          ]
        },
        {
          "output_type": "stream",
          "name": "stderr",
          "text": [
            "\rProcessing CSV: 44it [03:53,  5.37s/it]"
          ]
        },
        {
          "output_type": "stream",
          "name": "stdout",
          "text": [
            "CV.BALELIVING\n",
            "Teak Deep Seating, Teak Garden Bar And Counter, Teak Garden Benches, Teak Garden Chair, Teak Garden Table, Teak Garden Dining, Set Furniture, Teak Garden Lounger, Teak Stool\n"
          ]
        },
        {
          "output_type": "stream",
          "name": "stderr",
          "text": [
            "\rProcessing CSV: 45it [03:59,  5.39s/it]"
          ]
        },
        {
          "output_type": "stream",
          "name": "stdout",
          "text": [
            "Fanella Furniture\n",
            "premium garden, outdoor, and patio furniture\n"
          ]
        },
        {
          "output_type": "stream",
          "name": "stderr",
          "text": [
            "\rProcessing CSV: 46it [04:04,  5.33s/it]"
          ]
        },
        {
          "output_type": "stream",
          "name": "stdout",
          "text": [
            "PT. Art Classic International\n",
            "Scandinavian, Furniture Wooden Teak, Furniture Craft\n"
          ]
        },
        {
          "output_type": "stream",
          "name": "stderr",
          "text": [
            "WARNING:google_genai.types:Warning: there are non-text parts in the response: ['function_call'],returning concatenated text result from text parts,check out the non text parts for full response from model.\n",
            "Processing CSV: 47it [04:09,  5.36s/it]"
          ]
        },
        {
          "output_type": "stream",
          "name": "stdout",
          "text": [
            "Warning: <final_answer> tag not found.\n",
            "Bali Gardencenter\n",
            "Hydroponics and imported Vegetable & flower seeds\n"
          ]
        },
        {
          "output_type": "stream",
          "name": "stderr",
          "text": [
            "\rProcessing CSV: 48it [04:15,  5.38s/it]"
          ]
        },
        {
          "output_type": "stream",
          "name": "stdout",
          "text": [
            "Lovena Garden\n",
            "Plant Rental, Pots, Media and Fertilizers, Flower & Fruit Seeds, Ornamental Plants & Fruits, Herbal & Spice Plants, Garden Creation & Maintenance\n"
          ]
        },
        {
          "output_type": "stream",
          "name": "stderr",
          "text": [
            "\rProcessing CSV: 49it [04:20,  5.36s/it]"
          ]
        },
        {
          "output_type": "stream",
          "name": "stdout",
          "text": [
            "CV. Kusuma Furniture\n",
            "Outdoor Furniture:  Tables, chairs, indoor furniture\n"
          ]
        },
        {
          "output_type": "stream",
          "name": "stderr",
          "text": [
            "\rProcessing CSV: 50it [04:25,  5.33s/it]"
          ]
        },
        {
          "output_type": "stream",
          "name": "stdout",
          "text": [
            "Bali Spot International\n",
            "arm chair, bar, bed, buffet, coffee table, divider, drawer, fence, gazebo, lamp, lounger, nesting,  planter, side bed, side table, sofa, terrace set, trunk, tv cabinet, wardrobe, water tap, bar stool, bench, cabinet, captive, console, cupboard, desk, mirror, occasional chair, rack, side cabinet, side chair, table, basket, bed head, console table, dining set, living set, love seat, stool, bag, ettagere, hanger, hanging rack, magazine rack, trolley, vase, bed side cabinet, screens,stand\n"
          ]
        },
        {
          "output_type": "stream",
          "name": "stderr",
          "text": [
            "\rProcessing CSV: 51it [04:31,  5.38s/it]"
          ]
        },
        {
          "output_type": "stream",
          "name": "stdout",
          "text": [
            "X-oticgarden\n",
            "tropical gardens, minimalist gardens, classic gardens, cafe landscapes to school playgrounds landscapes\n"
          ]
        },
        {
          "output_type": "stream",
          "name": "stderr",
          "text": [
            "\rProcessing CSV: 52it [04:36,  5.30s/it]"
          ]
        },
        {
          "output_type": "stream",
          "name": "stdout",
          "text": [
            "CV. Heliconia Greenery\n",
            "Jasa Landscape, Vertical Garden, Rooftop Garden\n"
          ]
        },
        {
          "output_type": "stream",
          "name": "stderr",
          "text": [
            "\rProcessing CSV: 53it [04:42,  5.39s/it]"
          ]
        },
        {
          "output_type": "stream",
          "name": "stdout",
          "text": [
            "CV. Jepara Crafter Furniture\n",
            "furniture made from root and wood recycle Outdoor Furniture:  Tables, chairs, indoor furniture Bedroom Beds,Armoire Wardrobe, Nightstand Bedsides, Coffee Tables\n"
          ]
        },
        {
          "output_type": "stream",
          "name": "stderr",
          "text": [
            "\rProcessing CSV: 54it [04:47,  5.42s/it]"
          ]
        },
        {
          "output_type": "stream",
          "name": "stdout",
          "text": [
            "CV. Qualiteak\n",
            "Outdoor Furniture:  Tables, chairs,Bench,Sofa,Furniture set , indoor furniture\n"
          ]
        },
        {
          "output_type": "stream",
          "name": "stderr",
          "text": [
            "\rProcessing CSV: 55it [04:53,  5.48s/it]"
          ]
        },
        {
          "output_type": "stream",
          "name": "stdout",
          "text": [
            "CV. K-SARES INDO TRADE\n",
            "\n",
            "\n",
            "Skipping row 56 due to missing data.\n",
            "CV. Karunia Sejati Abadi (Bagoes Teak Furniture)\n",
            "Outdoor Teak Garden Patio Furniture Manufacturer and Teak Indoor Furniture Factory, Exporter and Wholesale of Indoor Teak Furniture, Teak Garden Furniture, Outdoor and Patio Furniture from Indonesia by Bagoes Teak Furniture\n"
          ]
        },
        {
          "output_type": "stream",
          "name": "stderr",
          "text": [
            "\rProcessing CSV: 57it [04:58,  4.21s/it]"
          ]
        },
        {
          "output_type": "stream",
          "name": "stdout",
          "text": [
            "PT. Segoro Mas Solo\n",
            "indoor furniture mainly made of teak wood material,Modern chair,Modern Table\n"
          ]
        },
        {
          "output_type": "stream",
          "name": "stderr",
          "text": [
            "\rProcessing CSV: 58it [05:04,  4.57s/it]"
          ]
        },
        {
          "output_type": "stream",
          "name": "stdout",
          "text": [
            "Gudang Mebel Grend Furniture\n",
            "\n",
            "\n",
            "Skipping row 59 due to missing data.\n",
            "Solid Teak Furniture Warehouse\n",
            "Indoor Furniture Bedroom Dining Chair Outdoor Furniture Chair and Bench Deep Seating Steamer and Lounger Tables\n"
          ]
        },
        {
          "output_type": "stream",
          "name": "stderr",
          "text": [
            "\rProcessing CSV: 60it [05:09,  3.79s/it]"
          ]
        },
        {
          "output_type": "stream",
          "name": "stdout",
          "text": [
            "iFurnature\n",
            "Furniture from Petrified Wood, Wood Resin, Obsidian(tabletops, stools, sink to small sculptures)\n"
          ]
        },
        {
          "output_type": "stream",
          "name": "stderr",
          "text": [
            "\rProcessing CSV: 61it [05:15,  4.12s/it]"
          ]
        },
        {
          "output_type": "stream",
          "name": "stdout",
          "text": [
            "Artha Jati Furniture\n",
            "Garden Furniture,Classic Reproduction,Bamboo Furniture,Rattan Furniture\n"
          ]
        },
        {
          "output_type": "stream",
          "name": "stderr",
          "text": [
            "\rProcessing CSV: 62it [05:20,  4.53s/it]"
          ]
        },
        {
          "output_type": "stream",
          "name": "stdout",
          "text": [
            "Pena Legasi Sdn Bhd\n",
            "Printer Ink & Toner Labels & Label Maker Office Machine & Equipment, Stationery, Paper, Technology, Breakroom, Cleaning\n"
          ]
        },
        {
          "output_type": "stream",
          "name": "stderr",
          "text": [
            "\rProcessing CSV: 63it [05:26,  4.86s/it]"
          ]
        },
        {
          "output_type": "stream",
          "name": "stdout",
          "text": [
            "Global Chain Nine Enterprise\n",
            "KEY CHAIN , New arrival, Soap Flower, Car pillow /steering / acc, Slimming / healthly, Tablet / smart phone, Phone case\n"
          ]
        },
        {
          "output_type": "stream",
          "name": "stderr",
          "text": [
            "\rProcessing CSV: 64it [05:34,  5.59s/it]"
          ]
        },
        {
          "output_type": "stream",
          "name": "stdout",
          "text": [
            "CUANG CHENG MAO YI SDN. BHD\n",
            "Stroller,Tricycle,Tricycle,Ball House,Car Seat,Baby Gate\n"
          ]
        },
        {
          "output_type": "stream",
          "name": "stderr",
          "text": [
            "\rProcessing CSV: 65it [05:39,  5.54s/it]"
          ]
        },
        {
          "output_type": "stream",
          "name": "stdout",
          "text": [
            "Flybyfly Malaysia Store\n",
            "BUNDLES ,COLLECTIONS ,NURSERY ,BABYWEAR ,BEDDING ,Baby Gyms & Nests\n"
          ]
        },
        {
          "output_type": "stream",
          "name": "stderr",
          "text": [
            "\rProcessing CSV: 66it [05:45,  5.54s/it]"
          ]
        },
        {
          "output_type": "stream",
          "name": "stdout",
          "text": [
            "NCS ELECTRICAL SDN BHD\n",
            "Electrical product BAZAR,PHISON,htc,PHILIPS,TESCOM\n"
          ]
        },
        {
          "output_type": "stream",
          "name": "stderr",
          "text": [
            "\rProcessing CSV: 67it [05:50,  5.41s/it]"
          ]
        },
        {
          "output_type": "stream",
          "name": "stdout",
          "text": [
            "JOVEN MARKETING SDN BHD\n",
            "Water Heaters, Storage Water Heaters, Multipoint Water Heaters, Water Filters and Purifiers\n"
          ]
        },
        {
          "output_type": "stream",
          "name": "stderr",
          "text": [
            "\rProcessing CSV: 68it [05:55,  5.42s/it]"
          ]
        },
        {
          "output_type": "stream",
          "name": "stdout",
          "text": [
            "Bosch Home MY\n",
            "Cooking & baking, Washers & dryers, Dishwashers, Fridges & freezers, Coffee machines, Kitchen machines, Food preparation, Vacuum cleaners\n"
          ]
        },
        {
          "output_type": "stream",
          "name": "stderr",
          "text": [
            "\rProcessing CSV: 69it [06:01,  5.46s/it]"
          ]
        },
        {
          "output_type": "stream",
          "name": "stdout",
          "text": [
            "Nyantech Electrical\n",
            "TV&AV, REFRIGERATOR, WASHER, AIR CONDITIONER, FANS, KITCHEN APPLIANCE, SMALL APPLIANCES, LIGHTING\n"
          ]
        },
        {
          "output_type": "stream",
          "name": "stderr",
          "text": [
            "\rProcessing CSV: 70it [06:06,  5.49s/it]"
          ]
        },
        {
          "output_type": "stream",
          "name": "stdout",
          "text": [
            "CHINGSTON ELECTRIC (M) SDN BHD\n",
            "Cooking,Laundry,Refrigerator\n"
          ]
        },
        {
          "output_type": "stream",
          "name": "stderr",
          "text": [
            "\rProcessing CSV: 71it [06:12,  5.55s/it]"
          ]
        },
        {
          "output_type": "stream",
          "name": "stdout",
          "text": [
            "Cornell Malaysia\n",
            "Housekeeping Equipment, Built-in Kitchen Appliances, Small Domestic Devices, Air Treatment Product Range, Freezers, Bathroom Paraphernalia and Beauty Care Gadgets\n"
          ]
        },
        {
          "output_type": "stream",
          "name": "stderr",
          "text": [
            "\rProcessing CSV: 72it [06:18,  5.57s/it]"
          ]
        },
        {
          "output_type": "stream",
          "name": "stdout",
          "text": [
            "V LIGHTING & HOME APPLIANCES\n",
            "CEILING HANGING LIGHT,CEILING LIGHT, CRYSTAL LIGHT, WALL LIGHT\n"
          ]
        },
        {
          "output_type": "stream",
          "name": "stderr",
          "text": [
            "\rProcessing CSV: 73it [06:23,  5.53s/it]"
          ]
        },
        {
          "output_type": "stream",
          "name": "stdout",
          "text": [
            "Ai Hub Sdn Bhd\n",
            "Door Security, Home Security Camera, Smart Sensor Equipment, Smart Switch\n"
          ]
        },
        {
          "output_type": "stream",
          "name": "stderr",
          "text": [
            "\rProcessing CSV: 74it [06:28,  5.50s/it]"
          ]
        },
        {
          "output_type": "stream",
          "name": "stdout",
          "text": [
            "Seng Huat Electrical & Home Appliances Sdn Bhd\n",
            "MOBILE, TV & AV, HOME APPLIANCES, KITCHEN APPLIANCES\n"
          ]
        },
        {
          "output_type": "stream",
          "name": "stderr",
          "text": [
            "\rProcessing CSV: 75it [06:34,  5.42s/it]"
          ]
        },
        {
          "output_type": "stream",
          "name": "stdout",
          "text": [
            "Tata Smart Sdn Bhd\n",
            "air cooler, vacuum, fingerprint safety box, pressure washer, etc\n"
          ]
        },
        {
          "output_type": "stream",
          "name": "stderr",
          "text": [
            "\rProcessing CSV: 76it [06:39,  5.43s/it]"
          ]
        },
        {
          "output_type": "stream",
          "name": "stdout",
          "text": [
            "Homesup Sdn. Bhd\n",
            "Lighting, Ventilation & Fan Series, Home Appliance, Tools Hardware, Electrical Accessories\n"
          ]
        },
        {
          "output_type": "stream",
          "name": "stderr",
          "text": [
            "\rProcessing CSV: 77it [06:45,  5.65s/it]"
          ]
        },
        {
          "output_type": "stream",
          "name": "stdout",
          "text": [
            "Mega Housewares Marketing Sdn. Bhd\n",
            "Stainless Steel, Cooking Wares, Home Appliances Household, Plastic Products, Electrical Appliances, Kitchen Equipment, Kettles and Rice Cookers, Collection of Kitchen Wares, Plastic Household Products\n"
          ]
        },
        {
          "output_type": "stream",
          "name": "stderr",
          "text": [
            "\rProcessing CSV: 78it [06:51,  5.60s/it]"
          ]
        },
        {
          "output_type": "stream",
          "name": "stdout",
          "text": [
            "Mayer Malaysia Sdn Bhd\n",
            "Accessories Air Fryer Blender/Juicer Electric Cooker / Ceramic Cooker,Air Conditioner / Cooler Fan Shower Heater Vacuum / Garment Steamer\n"
          ]
        },
        {
          "output_type": "stream",
          "name": "stderr",
          "text": [
            "\rProcessing CSV: 79it [06:56,  5.53s/it]"
          ]
        },
        {
          "output_type": "stream",
          "name": "stdout",
          "text": [
            "MMXMALL\n",
            "Bladeless Fan, Floor Washer, Garment Steamer, Vacuum Cleaner, Home Appliances, Hair Dryer, Kitchen Appliances\n"
          ]
        },
        {
          "output_type": "stream",
          "name": "stderr",
          "text": [
            "\rProcessing CSV: 80it [07:02,  5.60s/it]"
          ]
        },
        {
          "output_type": "stream",
          "name": "stdout",
          "text": [
            "MUGEN Malaysia\n",
            "Bread Makers, Ceramic Cookers, Pressure Cookers, Gas Stoves, Air Coolers, Jump Starters, and Bike\n"
          ]
        },
        {
          "output_type": "stream",
          "name": "stderr",
          "text": [
            "\rProcessing CSV: 81it [07:07,  5.48s/it]"
          ]
        },
        {
          "output_type": "stream",
          "name": "stdout",
          "text": [
            "Gelombang Cekal Sdn Bhd\n",
            "Security Equipment Stores\n"
          ]
        },
        {
          "output_type": "stream",
          "name": "stderr",
          "text": [
            "\rProcessing CSV: 82it [07:13,  5.62s/it]"
          ]
        },
        {
          "output_type": "stream",
          "name": "stdout",
          "text": [
            "Ika Home Malaysia.\n",
            "Kitchen Appliances. Explore Quality Oven, Microwave, Cooker Hood, Gas Hob, and Electric Hob Solutions\n"
          ]
        },
        {
          "output_type": "stream",
          "name": "stderr",
          "text": [
            "\rProcessing CSV: 83it [07:18,  5.57s/it]"
          ]
        },
        {
          "output_type": "stream",
          "name": "stdout",
          "text": [
            "TouchIT2u.com.my\n",
            "Appliance, Phones & Tablets, Computers & Laptops, Digital Cameras, Games & Consoles, Headphones, Home Entertainment\n"
          ]
        },
        {
          "output_type": "stream",
          "name": "stderr",
          "text": [
            "\rProcessing CSV: 84it [07:24,  5.54s/it]"
          ]
        },
        {
          "output_type": "stream",
          "name": "stdout",
          "text": [
            "FOTILE HEADQUATERS\n",
            "Range Hood, Gas Hob, Electrical Hob, Oven, Steam Oven, Microwave Oven, Combi Oven, One Oven, Dishwasher, Water Purifier, LUNA Series\n"
          ]
        },
        {
          "output_type": "stream",
          "name": "stderr",
          "text": [
            "\rProcessing CSV: 85it [07:29,  5.50s/it]"
          ]
        },
        {
          "output_type": "stream",
          "name": "stdout",
          "text": [
            "Mamansa Sdn Bhd\n",
            "small home appliances and household\n"
          ]
        },
        {
          "output_type": "stream",
          "name": "stderr",
          "text": [
            "\rProcessing CSV: 86it [07:35,  5.47s/it]"
          ]
        },
        {
          "output_type": "stream",
          "name": "stdout",
          "text": [
            "Chan Furniture (M) Sdn. Bhd.\n",
            "SOFA SETS,Bar,Chair,Bed,Table\n"
          ]
        },
        {
          "output_type": "stream",
          "name": "stderr",
          "text": [
            "\rProcessing CSV: 87it [07:40,  5.39s/it]"
          ]
        },
        {
          "output_type": "stream",
          "name": "stdout",
          "text": [
            "3A United Sdn Bhd\n",
            "vacuum cleaner,robot vacuum cleaner,blender.slice bread,air purifier\n"
          ]
        },
        {
          "output_type": "stream",
          "name": "stderr",
          "text": [
            "\rProcessing CSV: 88it [07:45,  5.41s/it]"
          ]
        },
        {
          "output_type": "stream",
          "name": "stdout",
          "text": [
            "Centonia Industries Sdn Bhd\n",
            "Electric Instant Water Heaters, Shower Boosters and Storage Water Heaters\n"
          ]
        },
        {
          "output_type": "stream",
          "name": "stderr",
          "text": [
            "\rProcessing CSV: 89it [07:51,  5.42s/it]"
          ]
        },
        {
          "output_type": "stream",
          "name": "stdout",
          "text": [
            "AE Rubber Sdn. Bhd.\n",
            "Generic Product,Rubber - Metal Bonded,Automobile part,Electronics part,Computer Peripherals\n"
          ]
        },
        {
          "output_type": "stream",
          "name": "stderr",
          "text": [
            "\rProcessing CSV: 90it [07:56,  5.43s/it]"
          ]
        },
        {
          "output_type": "stream",
          "name": "stdout",
          "text": [
            "HOME PRODUCT CENTER (MALAYSIA) SDN. BHD\n",
            "Appliances, Bathroom, Furniture & Home Décor, Television & Audio, Kitchen Household Products, Outdoors Lamps & Light Bulbs, Bedroom Tools & Hardwares Plumbing Electrical, Construction Floors & Walls Doors & Windows Appliances, Bathroom Furniture & Home Décor, Television & Audio, Kitchen Household Products, Outdoors Lamps & Light Bulbs, Bedroom Tools & Hardwares\n"
          ]
        },
        {
          "output_type": "stream",
          "name": "stderr",
          "text": [
            "\rProcessing CSV: 91it [08:02,  5.51s/it]"
          ]
        },
        {
          "output_type": "stream",
          "name": "stdout",
          "text": [
            "EUWAY ELECTRICAL (M) SDN BHD\n",
            "cooker hood & electric hob, kitchen appliances, TV & sound bar, air conditioning, ceiling fan, exhaust fan, table fan, and stand fan\n"
          ]
        },
        {
          "output_type": "stream",
          "name": "stderr",
          "text": [
            "\rProcessing CSV: 92it [08:08,  5.62s/it]"
          ]
        },
        {
          "output_type": "stream",
          "name": "stdout",
          "text": [
            "gadgetbin\n",
            "Stainless Steel Cookware and Kettle Set,Raya Beverage Dispenser,Premium Retro Rotary Slicer,Professional Alarm Padlock\n"
          ]
        },
        {
          "output_type": "stream",
          "name": "stderr",
          "text": [
            "\rProcessing CSV: 93it [08:14,  5.62s/it]"
          ]
        },
        {
          "output_type": "stream",
          "name": "stdout",
          "text": [
            "Indpro (M) Sdn Bhd\n",
            "Automotive, Aerospace, White Goods , Electronic and General Industry\n"
          ]
        },
        {
          "output_type": "stream",
          "name": "stderr",
          "text": [
            "\rProcessing CSV: 94it [08:19,  5.50s/it]"
          ]
        },
        {
          "output_type": "stream",
          "name": "stdout",
          "text": [
            "KIWI Ideal Houseware\n",
            "wide range of food grade virgin and recycled plastic products according to the international standard for foods, beverage and storage requirement\n"
          ]
        },
        {
          "output_type": "stream",
          "name": "stderr",
          "text": [
            "\rProcessing CSV: 95it [08:24,  5.41s/it]"
          ]
        },
        {
          "output_type": "stream",
          "name": "stdout",
          "text": [
            "Mega Housewares Marketing Sdn. Bhd.\n",
            "Stainless Steel, Cooking Wares, Home Appliances Household, Plastic Products, Electrical Appliances, Kitchen Equipment, Kettles and Rice Cookers, Collection of Kitchen Wares, Plastic Household Products\n"
          ]
        },
        {
          "output_type": "stream",
          "name": "stderr",
          "text": [
            "\rProcessing CSV: 96it [08:29,  5.45s/it]"
          ]
        },
        {
          "output_type": "stream",
          "name": "stdout",
          "text": [
            "Centre Metal Industrial Sdn Bhd\n",
            "houseware rack, mousetrap, candy basket, offer bin, display rack, wooden rack, iron board, netting, and accessories\n"
          ]
        },
        {
          "output_type": "stream",
          "name": "stderr",
          "text": [
            "\rProcessing CSV: 97it [08:35,  5.50s/it]"
          ]
        },
        {
          "output_type": "stream",
          "name": "stdout",
          "text": [
            "TH Sinar Utara Trading\n",
            "providing household products, kitchenware and Food and Beverage,Ceramic, Duytan, FIKAS, HOME & LIVING, Sinar, Talopa\n"
          ]
        },
        {
          "output_type": "stream",
          "name": "stderr",
          "text": [
            "\rProcessing CSV: 98it [08:40,  5.39s/it]"
          ]
        },
        {
          "output_type": "stream",
          "name": "stdout",
          "text": [
            "Perusahaan Cemerlang Raya Sdn Bhd\n",
            "broom, brush, mop, scouring pad with sponge, scouring pad, household sponge, household plastic product etc\n"
          ]
        },
        {
          "output_type": "stream",
          "name": "stderr",
          "text": [
            "\rProcessing CSV: 99it [08:46,  5.40s/it]"
          ]
        },
        {
          "output_type": "stream",
          "name": "stdout",
          "text": [
            "Kiro Home DIY Sdn Bhd\n",
            "garden supplies(CUTTING TOOLS,FASTENING TOOLS,MEASURING TOOLS), hardware tools and more\n"
          ]
        },
        {
          "output_type": "stream",
          "name": "stderr",
          "text": [
            "\rProcessing CSV: 100it [08:51,  5.39s/it]"
          ]
        },
        {
          "output_type": "stream",
          "name": "stdout",
          "text": [
            "Homeware Mart ????\n",
            "Hardware, Houseware, IKEA Furniture, Bathroom Accessories, Garden Tool, Electrical Appliances\n"
          ]
        },
        {
          "output_type": "stream",
          "name": "stderr",
          "text": [
            "\rProcessing CSV: 101it [08:57,  5.64s/it]"
          ]
        },
        {
          "output_type": "stream",
          "name": "stdout",
          "text": [
            "Konzept Garden\n",
            "Design & install garden landscapes(NobleGrass, Ziant Hydr, Planter, Zen Bio Koi Pond, Himalaya Rock Fish Pond, Magic Garden Fish Pond, Eco Wall)\n"
          ]
        },
        {
          "output_type": "stream",
          "name": "stderr",
          "text": [
            "\rProcessing CSV: 102it [09:02,  5.44s/it]"
          ]
        },
        {
          "output_type": "stream",
          "name": "stdout",
          "text": [
            "BB Garden Supply Sdn. Bhd.\n",
            "Pebble Stone , Rock Stone , Stepping Stone , Japanese Lamp , Mushroom Cement,Balau Wood Table , Table Set Cement Wood Type Design , Cement Flower Pot , Natural Marble Slate Wall Tiles , Flower Pot Cement & Fiber , Home Flower Pot , Flowers Box  ,Large Flower Pots , Flower Pot Stand , Carpet Grass\n"
          ]
        },
        {
          "output_type": "stream",
          "name": "stderr",
          "text": [
            "\rProcessing CSV: 103it [09:08,  5.51s/it]"
          ]
        },
        {
          "output_type": "stream",
          "name": "stdout",
          "text": [
            "ABSOLUTE GARDENS SDN. BHD.\n",
            "Plant Rental ,Landscaping ,Plantscape set-up, (launches, events , 1-day rentals) Garden maintenance,Pegolas / Gazebos ,Koi ponds & water features ,Filtration systems ,Decking ,Theme gardens ,Turfing / walkways ,Plunge pool / spas\n"
          ]
        },
        {
          "output_type": "stream",
          "name": "stderr",
          "text": [
            "\rProcessing CSV: 104it [09:14,  5.55s/it]"
          ]
        },
        {
          "output_type": "stream",
          "name": "stdout",
          "text": [
            "Monoluxury Sdn Bhd\n",
            "fruits and vegetables\n"
          ]
        },
        {
          "output_type": "stream",
          "name": "stderr",
          "text": [
            "\rProcessing CSV: 105it [09:19,  5.53s/it]"
          ]
        },
        {
          "output_type": "stream",
          "name": "stdout",
          "text": [
            "S P Setia Bhd Group\n",
            "Real estate development,Construction, infrastructure, timber production and trade\n"
          ]
        },
        {
          "output_type": "stream",
          "name": "stderr",
          "text": [
            "\rProcessing CSV: 106it [09:24,  5.47s/it]"
          ]
        },
        {
          "output_type": "stream",
          "name": "stdout",
          "text": [
            "EcoBalance CityScapes Vertical Garden Systems\n",
            "Vertical Garden System\n"
          ]
        },
        {
          "output_type": "stream",
          "name": "stderr",
          "text": [
            "\rProcessing CSV: 107it [09:30,  5.39s/it]"
          ]
        },
        {
          "output_type": "stream",
          "name": "stdout",
          "text": [
            "THL Technology\n",
            "vertical garden, artificial grass, moss wall and origami wall\n"
          ]
        },
        {
          "output_type": "stream",
          "name": "stderr",
          "text": [
            "\rProcessing CSV: 108it [09:35,  5.43s/it]"
          ]
        },
        {
          "output_type": "stream",
          "name": "stdout",
          "text": [
            "Gafri Enterprise Sdn Bhd\n",
            "organic compost, organic fertilizer, and also plastic gardening products\n"
          ]
        },
        {
          "output_type": "stream",
          "name": "stderr",
          "text": [
            "\rProcessing CSV: 109it [09:41,  5.44s/it]"
          ]
        },
        {
          "output_type": "stream",
          "name": "stdout",
          "text": [
            "Potmate\n",
            "plant pot\n"
          ]
        },
        {
          "output_type": "stream",
          "name": "stderr",
          "text": [
            "\rProcessing CSV: 110it [09:46,  5.47s/it]"
          ]
        },
        {
          "output_type": "stream",
          "name": "stdout",
          "text": [
            "Ecoscape Design & Concept\n",
            "plants, pots, fertilizer, garden ornamental etc\n"
          ]
        },
        {
          "output_type": "stream",
          "name": "stderr",
          "text": [
            "\rProcessing CSV: 111it [09:52,  5.50s/it]"
          ]
        },
        {
          "output_type": "stream",
          "name": "stdout",
          "text": [
            "Yew Seng Gardening Supply Sdn Bhd\n",
            "fiberglass planter pots, potting mix, pesticides, and other gardening equipment\n"
          ]
        },
        {
          "output_type": "stream",
          "name": "stderr",
          "text": [
            "\rProcessing CSV: 112it [09:57,  5.45s/it]"
          ]
        },
        {
          "output_type": "stream",
          "name": "stdout",
          "text": [
            "Dream Garden Design\n",
            "Sandstone decorative bowl and stand ,Landscape and garden ponds ,Filteration design ,Fountains ,Waterfall and water cascade ,Natural & Artificial rock and mountain.\n"
          ]
        },
        {
          "output_type": "stream",
          "name": "stderr",
          "text": [
            "\rProcessing CSV: 113it [10:03,  5.49s/it]"
          ]
        },
        {
          "output_type": "stream",
          "name": "stdout",
          "text": [
            "PLANTSCAPE GARDEN SDN BHD\n",
            "condominium landscaping project, Oil & Gas facility landscape maintenance, stormwater and sediment runoff modelling, erosion & sediment control and wastewater management\n"
          ]
        },
        {
          "output_type": "stream",
          "name": "stderr",
          "text": [
            "\rProcessing CSV: 114it [10:08,  5.49s/it]"
          ]
        },
        {
          "output_type": "stream",
          "name": "stdout",
          "text": [
            "EcoClean Technology Sdn. Bhd.\n",
            "provide excellent service to all our clients in the field of Storm water, Waste water and Sullage water Treatment, Rainwater Conservation and Green Technology Application\n"
          ]
        },
        {
          "output_type": "stream",
          "name": "stderr",
          "text": [
            "\rProcessing CSV: 115it [10:13,  5.47s/it]"
          ]
        },
        {
          "output_type": "stream",
          "name": "stdout",
          "text": [
            "Monty Properties Sdn. Bhd\n",
            "LAND AND PROPERTIES TRADING, INVESTMENT HOLDING AND CONSTRUCTION BUSINESS\n"
          ]
        },
        {
          "output_type": "stream",
          "name": "stderr",
          "text": [
            "\rProcessing CSV: 116it [10:19,  5.60s/it]"
          ]
        },
        {
          "output_type": "stream",
          "name": "stdout",
          "text": [
            "DECON (decondesigns)\n",
            "SOFA SERIES ,DINING SERIES ,CANOPY SERIES ,PARASOL SERIES ,SWING SERIES ,LOUNGER SERIES\n"
          ]
        },
        {
          "output_type": "stream",
          "name": "stderr",
          "text": [
            "\rProcessing CSV: 117it [10:25,  5.48s/it]"
          ]
        },
        {
          "output_type": "stream",
          "name": "stdout",
          "text": [
            "IDEAL FENCE INDUSTRIES SDN BHD\n",
            "\n",
            "\n",
            "Skipping row 118 due to missing data.\n",
            "Plus Awning & Iron Sdn Bhd\n",
            "Industrial Awning ,Skylight ,Aluminium Composite Panel ,Glass Roofing ,Metal Roofing ,Polycarbonate Skylight & Roofing ,Roofing ,Metal Works Service ,ALUMINIUM STRIP CEILLING ,Fencing ,Gate ,Grill Door ,Iron Platform\n"
          ]
        }
      ]
    },
    {
      "cell_type": "code",
      "source": [
        "from google.colab import drive\n",
        "drive.mount('/content/drive')"
      ],
      "metadata": {
        "id": "37IkGoCd4l0S"
      },
      "execution_count": null,
      "outputs": []
    }
  ]
}